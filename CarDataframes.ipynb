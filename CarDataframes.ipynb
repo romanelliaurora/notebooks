{
  "nbformat": 4,
  "nbformat_minor": 0,
  "metadata": {
    "kernelspec": {
      "display_name": "Python 3",
      "language": "python",
      "name": "python3"
    },
    "language_info": {
      "codemirror_mode": {
        "name": "ipython",
        "version": 3
      },
      "file_extension": ".py",
      "mimetype": "text/x-python",
      "name": "python",
      "nbconvert_exporter": "python",
      "pygments_lexer": "ipython3",
      "version": "3.6.7"
    },
    "colab": {
      "name": "CarDataframes.ipynb",
      "provenance": [],
      "collapsed_sections": [
        "wrtNrb72nSoK"
      ],
      "toc_visible": true,
      "include_colab_link": true
    }
  },
  "cells": [
    {
      "cell_type": "markdown",
      "metadata": {
        "id": "view-in-github",
        "colab_type": "text"
      },
      "source": [
        "<a href=\"https://colab.research.google.com/github/romanelliaurora/notebooks/blob/master/CarDataframes.ipynb\" target=\"_parent\"><img src=\"https://colab.research.google.com/assets/colab-badge.svg\" alt=\"Open In Colab\"/></a>"
      ]
    },
    {
      "cell_type": "code",
      "metadata": {
        "id": "HPCmUNTunSm1",
        "colab_type": "code",
        "outputId": "98aba6b1-50c3-4d1d-b16f-dd7939741ab3",
        "colab": {
          "base_uri": "https://localhost:8080/",
          "height": 336
        }
      },
      "source": [
        "import pandas as pd\n",
        "import seaborn as sns\n",
        "import matplotlib.pyplot as plt\n",
        "%store -r Reggio\n",
        "%store -r Romagna\n",
        "%store -r Udine\n",
        "frames = [Reggio,Romagna,Udine]\n",
        "CarDataFrame = pd.concat(frames,sort=False, ignore_index=True)\n",
        "\n",
        "%store CarDataFrame"
      ],
      "execution_count": 0,
      "outputs": [
        {
          "output_type": "stream",
          "text": [
            "no stored variable Reggio\n",
            "no stored variable Romagna\n",
            "no stored variable Udine\n"
          ],
          "name": "stdout"
        },
        {
          "output_type": "stream",
          "text": [
            "/usr/local/lib/python3.6/dist-packages/statsmodels/tools/_testing.py:19: FutureWarning: pandas.util.testing is deprecated. Use the functions in the public API at pandas.testing instead.\n",
            "  import pandas.util.testing as tm\n"
          ],
          "name": "stderr"
        },
        {
          "output_type": "error",
          "ename": "NameError",
          "evalue": "ignored",
          "traceback": [
            "\u001b[0;31m---------------------------------------------------------------------------\u001b[0m",
            "\u001b[0;31mNameError\u001b[0m                                 Traceback (most recent call last)",
            "\u001b[0;32m<ipython-input-1-0e58e27e3a5f>\u001b[0m in \u001b[0;36m<module>\u001b[0;34m()\u001b[0m\n\u001b[1;32m      5\u001b[0m \u001b[0mget_ipython\u001b[0m\u001b[0;34m(\u001b[0m\u001b[0;34m)\u001b[0m\u001b[0;34m.\u001b[0m\u001b[0mmagic\u001b[0m\u001b[0;34m(\u001b[0m\u001b[0;34m'store -r Romagna'\u001b[0m\u001b[0;34m)\u001b[0m\u001b[0;34m\u001b[0m\u001b[0;34m\u001b[0m\u001b[0m\n\u001b[1;32m      6\u001b[0m \u001b[0mget_ipython\u001b[0m\u001b[0;34m(\u001b[0m\u001b[0;34m)\u001b[0m\u001b[0;34m.\u001b[0m\u001b[0mmagic\u001b[0m\u001b[0;34m(\u001b[0m\u001b[0;34m'store -r Udine'\u001b[0m\u001b[0;34m)\u001b[0m\u001b[0;34m\u001b[0m\u001b[0;34m\u001b[0m\u001b[0m\n\u001b[0;32m----> 7\u001b[0;31m \u001b[0mframes\u001b[0m \u001b[0;34m=\u001b[0m \u001b[0;34m[\u001b[0m\u001b[0mReggio\u001b[0m\u001b[0;34m,\u001b[0m\u001b[0mRomagna\u001b[0m\u001b[0;34m,\u001b[0m\u001b[0mUdine\u001b[0m\u001b[0;34m]\u001b[0m\u001b[0;34m\u001b[0m\u001b[0;34m\u001b[0m\u001b[0m\n\u001b[0m\u001b[1;32m      8\u001b[0m \u001b[0mCarDataFrame\u001b[0m \u001b[0;34m=\u001b[0m \u001b[0mpd\u001b[0m\u001b[0;34m.\u001b[0m\u001b[0mconcat\u001b[0m\u001b[0;34m(\u001b[0m\u001b[0mframes\u001b[0m\u001b[0;34m,\u001b[0m\u001b[0msort\u001b[0m\u001b[0;34m=\u001b[0m\u001b[0;32mFalse\u001b[0m\u001b[0;34m,\u001b[0m \u001b[0mignore_index\u001b[0m\u001b[0;34m=\u001b[0m\u001b[0;32mTrue\u001b[0m\u001b[0;34m)\u001b[0m\u001b[0;34m\u001b[0m\u001b[0;34m\u001b[0m\u001b[0m\n\u001b[1;32m      9\u001b[0m \u001b[0;34m\u001b[0m\u001b[0m\n",
            "\u001b[0;31mNameError\u001b[0m: name 'Reggio' is not defined"
          ]
        }
      ]
    },
    {
      "cell_type": "code",
      "metadata": {
        "id": "ScF6Jxf8Xt7K",
        "colab_type": "code",
        "colab": {}
      },
      "source": [
        "from IPython import get_ipython\n",
        "ipython = get_ipython()\n",
        "ipython.magic(\"store -r\")"
      ],
      "execution_count": 0,
      "outputs": []
    },
    {
      "cell_type": "code",
      "metadata": {
        "id": "Lmgw7wm1XvTr",
        "colab_type": "code",
        "outputId": "032fdff3-d4bb-47e1-a088-582bb2f19085",
        "colab": {
          "base_uri": "https://localhost:8080/",
          "height": 163
        }
      },
      "source": [
        "Reggio\n"
      ],
      "execution_count": 0,
      "outputs": [
        {
          "output_type": "error",
          "ename": "NameError",
          "evalue": "ignored",
          "traceback": [
            "\u001b[0;31m---------------------------------------------------------------------------\u001b[0m",
            "\u001b[0;31mNameError\u001b[0m                                 Traceback (most recent call last)",
            "\u001b[0;32m<ipython-input-3-c4ba2aa0a6a2>\u001b[0m in \u001b[0;36m<module>\u001b[0;34m()\u001b[0m\n\u001b[0;32m----> 1\u001b[0;31m \u001b[0mReggio\u001b[0m\u001b[0;34m\u001b[0m\u001b[0;34m\u001b[0m\u001b[0m\n\u001b[0m",
            "\u001b[0;31mNameError\u001b[0m: name 'Reggio' is not defined"
          ]
        }
      ]
    },
    {
      "cell_type": "code",
      "metadata": {
        "id": "ZC00KR6fnZPt",
        "colab_type": "code",
        "outputId": "a23318f2-eb12-43fe-fb83-446a379a1926",
        "colab": {
          "base_uri": "https://localhost:8080/",
          "height": 122
        }
      },
      "source": [
        "from google.colab import drive\n",
        "drive.mount('/content/drive')"
      ],
      "execution_count": 0,
      "outputs": [
        {
          "output_type": "stream",
          "text": [
            "Go to this URL in a browser: https://accounts.google.com/o/oauth2/auth?client_id=947318989803-6bn6qk8qdgf4n4g3pfee6491hc0brc4i.apps.googleusercontent.com&redirect_uri=urn%3aietf%3awg%3aoauth%3a2.0%3aoob&response_type=code&scope=email%20https%3a%2f%2fwww.googleapis.com%2fauth%2fdocs.test%20https%3a%2f%2fwww.googleapis.com%2fauth%2fdrive%20https%3a%2f%2fwww.googleapis.com%2fauth%2fdrive.photos.readonly%20https%3a%2f%2fwww.googleapis.com%2fauth%2fpeopleapi.readonly\n",
            "\n",
            "Enter your authorization code:\n",
            "··········\n",
            "Mounted at /content/drive\n"
          ],
          "name": "stdout"
        }
      ]
    },
    {
      "cell_type": "code",
      "metadata": {
        "id": "Un8JvZiAnSm9",
        "colab_type": "code",
        "colab": {}
      },
      "source": [
        "list(CarDataFrame)"
      ],
      "execution_count": 0,
      "outputs": []
    },
    {
      "cell_type": "code",
      "metadata": {
        "id": "9l4Bgz0cnSnE",
        "colab_type": "code",
        "colab": {}
      },
      "source": [
        "CarDataFrame"
      ],
      "execution_count": 0,
      "outputs": []
    },
    {
      "cell_type": "code",
      "metadata": {
        "id": "KE3g7SBMnSnI",
        "colab_type": "code",
        "colab": {}
      },
      "source": [
        "CarDataFrame['TipoCosto'].unique()"
      ],
      "execution_count": 0,
      "outputs": []
    },
    {
      "cell_type": "code",
      "metadata": {
        "id": "R80PfBWHnSnL",
        "colab_type": "code",
        "colab": {}
      },
      "source": [
        "CarDataFrame['TipoCosto'].replace(['GOMMISTA', 'GOMMISTI', 'gommista'], \"Gommista\" , inplace=True)\n",
        "CarDataFrame['TipoCosto'].replace(['MECCANICO', 'Meccanica', 'meccanico'], \"Meccanico\" , inplace=True)\n",
        "CarDataFrame['TipoCosto'].replace(['ELETTRAUTO'], \"Elettrauto\" , inplace=True)\n",
        "CarDataFrame['TipoCosto'].replace(['CARROZZAIO', 'Carrozzeria', 'carrozziere','sfasciacarrozze'], \"Carrozziere\" , inplace=True)\n",
        "CarDataFrame['TipoCosto'].replace(['LAVAGGIO'], \"Accessorio\" , inplace=True)\n"
      ],
      "execution_count": 0,
      "outputs": []
    },
    {
      "cell_type": "code",
      "metadata": {
        "id": "hY1iyb3InSnO",
        "colab_type": "code",
        "colab": {}
      },
      "source": [
        "CarDataFrame['TipoCosto'].unique()"
      ],
      "execution_count": 0,
      "outputs": []
    },
    {
      "cell_type": "code",
      "metadata": {
        "id": "nIQ5UyTtnSnS",
        "colab_type": "code",
        "colab": {}
      },
      "source": [
        "CarDataFrame['TipoCarburante'].replace(['Gasolio'], \"Diesel\" , inplace=True)\n",
        "CarDataFrame['TipoCarburante'].replace(['Benzina verde'], \"Benzina\" , inplace=True)"
      ],
      "execution_count": 0,
      "outputs": []
    },
    {
      "cell_type": "code",
      "metadata": {
        "id": "kUBHn6FpnSnV",
        "colab_type": "code",
        "colab": {}
      },
      "source": [
        "CarDataFrame['TipoCarburante'].unique()\n"
      ],
      "execution_count": 0,
      "outputs": []
    },
    {
      "cell_type": "code",
      "metadata": {
        "id": "Brb8fomEnSnZ",
        "colab_type": "code",
        "colab": {}
      },
      "source": [
        "CarDataFrame['TipoVeicolo'].replace(['VETERINARI AY053BL', 'VETERINARI BW884RX', 'VETERINARI CB644ZS', 'VETERINARI EF992TV', 'auto veterinari', 'VETERINARI EF969TV'], \"Auto veterinaria\" , inplace=True)\n",
        "CarDataFrame['TipoVeicolo'].replace(['Autovettura con Servosterzo', 'AUTOVETTURA CON TELEPASS','Autoveicolo SPSAL', 'AUTOVETTURA CON TELEPASS','Fuoristrada','Autoveicolo parcheggio Ziccardi'], \"Autovettura\" , inplace=True)\n",
        "CarDataFrame['TipoVeicolo'].replace(['Autocarro GPL'], \"Autocarro\" , inplace=True)\n",
        "CarDataFrame['TipoVeicolo'].replace(['Furgone diesel', 'Furgone con sponda idraulica'], \"Furgone\" , inplace=True)"
      ],
      "execution_count": 0,
      "outputs": []
    },
    {
      "cell_type": "code",
      "metadata": {
        "id": "jH14FdHvnSnb",
        "colab_type": "code",
        "colab": {}
      },
      "source": [
        "CarDataFrame['TipoVeicolo'].unique()"
      ],
      "execution_count": 0,
      "outputs": []
    },
    {
      "cell_type": "code",
      "metadata": {
        "id": "CrX6LH9ynSne",
        "colab_type": "code",
        "colab": {}
      },
      "source": [
        "CarDataFrame['Modello'].replace(['PANDA YOUNG','4X4','PANDA BENZ','PANDA 4x4 DIESEL','PANDA  NP','PANDA BENZ ', 'PANDA 4X4 BENZ', 'PANDA GPL (CONVERTITA)','PANDA CLASSIC GPL','PANDA PADIGLIONE ZICCARDI','PANDA GPL','PANDA N.P.','PANDA 4x4','PANDA CITIVAN','PANDA','PANDA ACTUAL'], \"Panda\" , inplace=True)\n",
        "CarDataFrame['Modello'].replace(['SCUDO 9 POSTI'], \"SCUDO\" , inplace=True)\n",
        "CarDataFrame['Modello'].replace([\"DOBLO' DIESEL\", 'DOBLO 1.4 N.P.', 'DOBLO BENZ','DOBLO family 7 posti'], \"DOBLO\" , inplace=True)\n",
        "CarDataFrame['Modello'].replace(['PANDA CITIVAN', 'PANDA CITY VAN','PANDA VAN 4X4'], \"PANDA VAN\" , inplace=True)\n",
        "CarDataFrame['Modello'].replace(['PUNTO PADIGLIONE ZICCARDI', 'GRANDE PUNTO','PUNTO GPL'], \"PUNTO\" , inplace=True)\n",
        "CarDataFrame['Modello'].replace(['DAILY PULMINO'], \"DAILY\" , inplace=True)\n",
        "CarDataFrame['Modello'].replace(['80E15 3 6 CTG N2'], \"80E15\" , inplace=True)\n",
        "CarDataFrame['Modello'].replace(['KANGOO GPL'], \"KANGOO\" , inplace=True)\n",
        "CarDataFrame['Modello'].replace(['APE TM 703','QUADRICICLO'], \"Ape\" , inplace=True)\n",
        "CarDataFrame['Modello'].replace(['3000 TD'], \"MASTER\" , inplace=True)\n",
        "CarDataFrame['Modello'].replace(['D06'], \"206\" , inplace=True)\n",
        "\n"
      ],
      "execution_count": 0,
      "outputs": []
    },
    {
      "cell_type": "code",
      "metadata": {
        "id": "4WhioAyRnSnh",
        "colab_type": "code",
        "colab": {}
      },
      "source": [
        "CarDataFrame['Marca'].unique()"
      ],
      "execution_count": 0,
      "outputs": []
    },
    {
      "cell_type": "code",
      "metadata": {
        "scrolled": true,
        "id": "HOpBQMTbnSnk",
        "colab_type": "code",
        "colab": {}
      },
      "source": [
        "CarDataFrame['Modello'].unique()"
      ],
      "execution_count": 0,
      "outputs": []
    },
    {
      "cell_type": "code",
      "metadata": {
        "id": "mHXduYkQnSnn",
        "colab_type": "code",
        "colab": {}
      },
      "source": [
        "CarDataFrame['EuroIDEmissione'].replace([  15.], 6, inplace=True)\n",
        "CarDataFrame['EuroIDEmissione'].replace([ 99.], 7, inplace=True)\n",
        "CarDataFrame['EuroIDEmissione'].replace([ 646.], 6 , inplace=True)\n"
      ],
      "execution_count": 0,
      "outputs": []
    },
    {
      "cell_type": "code",
      "metadata": {
        "id": "pBfMDua4nSns",
        "colab_type": "code",
        "colab": {}
      },
      "source": [
        "CarDataFrame['EuroIDEmissione'].unique()"
      ],
      "execution_count": 0,
      "outputs": []
    },
    {
      "cell_type": "code",
      "metadata": {
        "id": "jPlaatdRnSnv",
        "colab_type": "code",
        "colab": {}
      },
      "source": [
        "CarDataFrame.info(memory_usage=\"deep\")"
      ],
      "execution_count": 0,
      "outputs": []
    },
    {
      "cell_type": "code",
      "metadata": {
        "id": "Wv9zbBosnSny",
        "colab_type": "code",
        "colab": {}
      },
      "source": [
        "CarDataFrame.isna().sum()"
      ],
      "execution_count": 0,
      "outputs": []
    },
    {
      "cell_type": "code",
      "metadata": {
        "id": "6LvZamYNnSn1",
        "colab_type": "code",
        "colab": {}
      },
      "source": [
        "sns.heatmap(CarDataFrame.isna(), cmap=\"Reds_r\")\n",
        "plt.show()"
      ],
      "execution_count": 0,
      "outputs": []
    },
    {
      "cell_type": "markdown",
      "metadata": {
        "id": "BCWHXrgAnSn5",
        "colab_type": "text"
      },
      "source": [
        "pd.set_option('display.max_rows', CarDataFrame.shape[0]+1)"
      ]
    },
    {
      "cell_type": "code",
      "metadata": {
        "id": "GjR1iJBXnSn6",
        "colab_type": "code",
        "colab": {}
      },
      "source": [
        "CarDataFrame['Posti'].describe()"
      ],
      "execution_count": 0,
      "outputs": []
    },
    {
      "cell_type": "code",
      "metadata": {
        "id": "vVwH1HxnnSn9",
        "colab_type": "code",
        "colab": {}
      },
      "source": [
        "CarDataFrame['ConsumoMedio'].describe()"
      ],
      "execution_count": 0,
      "outputs": []
    },
    {
      "cell_type": "code",
      "metadata": {
        "id": "KU3HZgW9nSn_",
        "colab_type": "code",
        "colab": {}
      },
      "source": [
        "CarDataFrame['EuroIDEmissione'].describe()"
      ],
      "execution_count": 0,
      "outputs": []
    },
    {
      "cell_type": "code",
      "metadata": {
        "id": "0SYyURwpnSoC",
        "colab_type": "code",
        "colab": {}
      },
      "source": [
        "sns.pairplot(CarDataFrame,diag_kind=\"kde\",corner=True)"
      ],
      "execution_count": 0,
      "outputs": []
    },
    {
      "cell_type": "code",
      "metadata": {
        "id": "ovUseDb-nSoF",
        "colab_type": "code",
        "colab": {}
      },
      "source": [
        "CarDataFrame['Posti'] = CarDataFrame['Posti'].fillna(4)\n",
        "CarDataFrame['Rottamato'] = CarDataFrame['Rottamato'].fillna(0)\n",
        "#CarDataFrame['DataRottamazione'] = CarDataFrame['DataRottamazione'].fillna(0)\n",
        "CarDataFrame['EuroIDEmissione'] = CarDataFrame['EuroIDEmissione'].fillna(CarDataFrame['EuroIDEmissione'].mean())"
      ],
      "execution_count": 0,
      "outputs": []
    },
    {
      "cell_type": "code",
      "metadata": {
        "id": "IvQ_a2konSoI",
        "colab_type": "code",
        "colab": {}
      },
      "source": [
        "CarDataFrame['Posti'] = CarDataFrame['Posti'].astype('int32')\n",
        "CarDataFrame['Rottamato'] = CarDataFrame['Rottamato'].astype('bool_')\n",
        "CarDataFrame['IsAccessorio'] = CarDataFrame['IsAccessorio'].astype('bool_')\n",
        "CarDataFrame['Importo'] = CarDataFrame['Importo'].astype('float64')\n",
        "CarDataFrame['DataManutenz'] = CarDataFrame['DataManutenz'].astype('datetime64')\n",
        "CarDataFrame['DataRottamazione'] = pd.to_datetime(CarDataFrame['DataRottamazione'], errors='coerce')\n",
        "CarDataFrame['EuroIDEmissione'] = CarDataFrame['EuroIDEmissione'].astype('int32')"
      ],
      "execution_count": 0,
      "outputs": []
    },
    {
      "cell_type": "markdown",
      "metadata": {
        "id": "wrtNrb72nSoK",
        "colab_type": "text"
      },
      "source": [
        "## Codice per raggruppare le manutenzioni"
      ]
    },
    {
      "cell_type": "markdown",
      "metadata": {
        "id": "fNZsfZGQnSoL",
        "colab_type": "text"
      },
      "source": [
        "test = ['False','False','True']\n",
        "test = pd.DataFrame(test)\n",
        "test = test[0].map({'False':False, 'True':True})\n",
        "print (test)\n",
        "0    False\n",
        "1    False\n",
        "2     True\n",
        "Name: 0, dtype: bool"
      ]
    },
    {
      "cell_type": "markdown",
      "metadata": {
        "id": "q1u2qoX4nSoM",
        "colab_type": "text"
      },
      "source": [
        "CarDataFrame.groupby(['AutomezzoID'])\n",
        "CarDataFrame.loc[CarDataFrame['AutomezzoID'] == 1053]"
      ]
    },
    {
      "cell_type": "markdown",
      "metadata": {
        "id": "gp3zjZ4gnSoN",
        "colab_type": "text"
      },
      "source": [
        "Try1 = CarDataFrame[['AutomezzoID', 'TipoCosto', 'Importo']].copy()\n",
        "grouped = Try1.groupby(['AutomezzoID', 'TipoCosto'])\n",
        "Try1 = grouped.sum()\n",
        "Try1"
      ]
    },
    {
      "cell_type": "markdown",
      "metadata": {
        "scrolled": true,
        "id": "RAF_eUwunSoO",
        "colab_type": "text"
      },
      "source": [
        "Try1.reset_index(inplace=True)"
      ]
    },
    {
      "cell_type": "markdown",
      "metadata": {
        "id": "eVXBjrNQnSoO",
        "colab_type": "text"
      },
      "source": [
        "Try2 = Try1.pivot(index='AutomezzoID', columns='TipoCosto', values='Importo').add_prefix('tot_')\n",
        "Try1"
      ]
    },
    {
      "cell_type": "markdown",
      "metadata": {
        "id": "jnxKLSf0nSoP",
        "colab_type": "text"
      },
      "source": [
        "Try2"
      ]
    },
    {
      "cell_type": "markdown",
      "metadata": {
        "id": "KTOSAY9inSoP",
        "colab_type": "text"
      },
      "source": [
        "Try1.unstack(level=-1).add_prefix('tot_')"
      ]
    },
    {
      "cell_type": "markdown",
      "metadata": {
        "id": "UYDNBA33nSoQ",
        "colab_type": "text"
      },
      "source": [
        "del CarDataFrame['Importo']\n",
        "del CarDataFrame['DataManutenz']\n",
        "del CarDataFrame['TipoCosto']\n",
        "del CarDataFrame['IsAccessorio']"
      ]
    },
    {
      "cell_type": "markdown",
      "metadata": {
        "id": "wxyDKohjnSoQ",
        "colab_type": "text"
      },
      "source": [
        "Cardf = pd.merge(Try2, CarDataFrame,  how='left', on='AutomezzoID')\n",
        "Cardf"
      ]
    },
    {
      "cell_type": "code",
      "metadata": {
        "id": "R1TaZoHvnSoR",
        "colab_type": "code",
        "colab": {}
      },
      "source": [
        "CarDataFrame.info(memory_usage=\"deep\")"
      ],
      "execution_count": 0,
      "outputs": []
    },
    {
      "cell_type": "code",
      "metadata": {
        "scrolled": false,
        "id": "JRP6ohqPnSoT",
        "colab_type": "code",
        "colab": {}
      },
      "source": [
        "CarDataFrame"
      ],
      "execution_count": 0,
      "outputs": []
    },
    {
      "cell_type": "code",
      "metadata": {
        "id": "YFD3QksynSoW",
        "colab_type": "code",
        "colab": {}
      },
      "source": [
        "CarDataFrame.to_csv(r'CarDatabase.csv',index=False)"
      ],
      "execution_count": 0,
      "outputs": []
    },
    {
      "cell_type": "code",
      "metadata": {
        "scrolled": false,
        "id": "weLQchBanSoY",
        "colab_type": "code",
        "colab": {}
      },
      "source": [
        "CarDataFrame.describe()"
      ],
      "execution_count": 0,
      "outputs": []
    },
    {
      "cell_type": "code",
      "metadata": {
        "id": "kR1_PVFHnSoc",
        "colab_type": "code",
        "colab": {}
      },
      "source": [
        "sns.pairplot(CarDataFrame)"
      ],
      "execution_count": 0,
      "outputs": []
    },
    {
      "cell_type": "code",
      "metadata": {
        "id": "Nk2GZ_FdnSoe",
        "colab_type": "code",
        "colab": {}
      },
      "source": [
        "plot_correlation(CarDataFrame.corr())"
      ],
      "execution_count": 0,
      "outputs": []
    },
    {
      "cell_type": "code",
      "metadata": {
        "id": "vqmWapZknSoh",
        "colab_type": "code",
        "colab": {}
      },
      "source": [
        ""
      ],
      "execution_count": 0,
      "outputs": []
    }
  ]
}